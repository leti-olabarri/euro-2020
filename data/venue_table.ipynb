{
 "cells": [
  {
   "cell_type": "markdown",
   "source": [
    "Como los estadios son poquitos, los voy a introducir \"a mano\" en la base de datos. La información sale en la web [The Stadium Guide](https://www.stadiumguide.com/tournaments/uefa-euro-2020/)"
   ],
   "metadata": {}
  },
  {
   "cell_type": "code",
   "execution_count": 2,
   "source": [
    "from sqlalchemy import create_engine\n",
    "import os\n",
    "from dotenv import load_dotenv\n",
    "load_dotenv()"
   ],
   "outputs": [
    {
     "output_type": "execute_result",
     "data": {
      "text/plain": [
       "True"
      ]
     },
     "metadata": {},
     "execution_count": 2
    }
   ],
   "metadata": {}
  },
  {
   "cell_type": "code",
   "execution_count": 3,
   "source": [
    "postgres_url_cloud = os.getenv(\"POSTGRES_URL\")\n",
    "engine_cloud = create_engine(postgres_url_cloud)\n",
    "euro2020_cl = engine_cloud.connect()"
   ],
   "outputs": [],
   "metadata": {}
  },
  {
   "cell_type": "code",
   "execution_count": 35,
   "source": [
    "query = \"CREATE TABLE venue ( venue_id int4 primary key, name varchar(50), capacity bigint, geom geometry(POINT,4326), city varchar(50), country varchar(50) );\""
   ],
   "outputs": [],
   "metadata": {}
  },
  {
   "cell_type": "code",
   "execution_count": 36,
   "source": [
    "euro2020_cl.execute(query)"
   ],
   "outputs": [
    {
     "output_type": "execute_result",
     "data": {
      "text/plain": [
       "<sqlalchemy.engine.cursor.LegacyCursorResult at 0x7fcb8ce631c0>"
      ]
     },
     "metadata": {},
     "execution_count": 36
    }
   ],
   "metadata": {}
  },
  {
   "cell_type": "code",
   "execution_count": 37,
   "source": [
    "wembley = [1, (51.5559713093309, -0.27960320661041116), 'Wembley Stadium', 90000, 'London', 'England']\n",
    "olimpico = [2, (41.93404646811048, 12.454716945430377), 'Stadio Olimpico', 73000, 'Rome', 'Italy']\n",
    "munich = [3, (48.21872569993062, 11.624706139926893), 'Allianz Arena', 75000, 'Munich', 'Germany']\n",
    "baku = [4, (40.42988245914064, 49.91952740235964), 'Baku Olympic Stadium', 65000, 'Baku', 'Azerbaijan']\n",
    "petersburg = [5, (59.97268503114309, 30.221404498296515), 'Saint Petersburg Stadium', 56000, 'Saint Petersburg', 'Russia']\n",
    "puskas = [6, (47.50319415134018, 19.097750620429995), 'Puskas Ferenc Stadio', 68000, 'Budapest', 'Hungary']\n",
    "bucarest = [7, (44.43710059435557, 26.152599826606604), 'Arena Nationala', 56000, 'Bucharest', 'Romania']\n",
    "johan = [8, (52.31432536784803, 4.941921182681645), 'Johan Cruijff Arena', 54000, 'Amsterdam', 'Netherlands']\n",
    "cartuja = [9, (37.41711955266814, -6.004600115914405), 'Estadio La Cartuja', 60000, 'Sevilla', 'Spain']\n",
    "hampden = [10, (55.825842180575165, -4.252101246030912), 'Hampden Park', 52000, 'Glasgow', 'Scotland']\n",
    "parken = [11, (55.70266851604674, 12.57234818464464), 'Parken Stadium', 38000, 'Copenhagen', 'Denmark']"
   ],
   "outputs": [],
   "metadata": {}
  },
  {
   "cell_type": "code",
   "execution_count": 38,
   "source": [
    "venues = [wembley, olimpico, munich, baku, petersburg, puskas, bucarest, johan, cartuja, hampden, parken]"
   ],
   "outputs": [],
   "metadata": {}
  },
  {
   "cell_type": "code",
   "execution_count": 39,
   "source": [
    "for i in venues:\n",
    "    coord1 = i[1][1]\n",
    "    coord2 = i[1][0]\n",
    "    query = f\"INSERT INTO venue (venue_id, geom, name, capacity, city, country) VALUES ({i[0]},ST_GeomFromText('POINT({coord1} {coord2})',4326),'{i[2]}',{i[3]},'{i[4]}','{i[5]}');\"\n",
    "    euro2020_cl.execute(query)"
   ],
   "outputs": [],
   "metadata": {}
  },
  {
   "cell_type": "code",
   "execution_count": null,
   "source": [
    "euro2020_cl.close()"
   ],
   "outputs": [],
   "metadata": {}
  }
 ],
 "metadata": {
  "orig_nbformat": 4,
  "language_info": {
   "name": "python",
   "version": "3.9.5",
   "mimetype": "text/x-python",
   "codemirror_mode": {
    "name": "ipython",
    "version": 3
   },
   "pygments_lexer": "ipython3",
   "nbconvert_exporter": "python",
   "file_extension": ".py"
  },
  "kernelspec": {
   "name": "python3",
   "display_name": "Python 3.9.5 64-bit ('core': conda)"
  },
  "interpreter": {
   "hash": "9cbadd9b672156ea83a1da6a1b89bf1b0dd25d8aef49d29cbab0785e04fe87bc"
  }
 },
 "nbformat": 4,
 "nbformat_minor": 2
}